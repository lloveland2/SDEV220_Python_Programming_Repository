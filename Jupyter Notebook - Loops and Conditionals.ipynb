{
 "cells": [
  {
   "cell_type": "code",
   "execution_count": null,
   "id": "b6882615",
   "metadata": {},
   "outputs": [],
   "source": [
    "\"\"\"4.1 Choose a number between 1 and 10 and assign it to the variable secret.\n",
    "    Then, select another number between 1 and 10 and assign it to the variable guess.\n",
    "   Next, write the conditional tests (if, else, and elif) to print the string 'too low' if\n",
    "    guess is less than secret, 'too high' if greater than secret, and 'just right' if equal to secret.\"\"\"\n",
    "\n",
    "secret = 7\n",
    "guess = 9\n",
    "if guess < secret:\n",
    "    print(\"Too low!\")\n",
    "elif guess > secret:\n",
    "    print(\"Too high!\")\n",
    "elif guess == secret:\n",
    "    print(\"Just right!\")\n"
   ]
  },
  {
   "cell_type": "code",
   "execution_count": null,
   "id": "b586bfd9",
   "metadata": {},
   "outputs": [],
   "source": [
    "\"\"\"4.2 Assign True or False to the variables small and green.\n",
    "     Write some if/else statements to print which of these matches those choices: cherry, pea, watermelon, pumpkin.\"\"\"\n",
    "small = False\n",
    "green = False\n",
    "\n",
    "if small and green:\n",
    "    print(\"Peas are small and green.\")\n",
    "    \n",
    "elif not small and green:\n",
    "    print(\"Watermelons are large and green.\")\n",
    "    \n",
    "elif small and not green:\n",
    "    print(\"Cherries are small, but not green\")\n",
    "    \n",
    "elif not small and not green:\n",
    "    print(\"Pumpkins are neither small nor green.\")"
   ]
  },
  {
   "cell_type": "code",
   "execution_count": 12,
   "id": "92940386",
   "metadata": {},
   "outputs": [
    {
     "name": "stdout",
     "output_type": "stream",
     "text": [
      "Item #1: 3\n",
      "Item #2: 2\n",
      "Item #3: 1\n",
      "Item #4: 0\n"
     ]
    }
   ],
   "source": [
    "#6.1 Use a for loop to print the values of the list [3, 2, 1, 0].\n",
    "numbers = [3, 2, 1, 0]\n",
    "i = 0\n",
    "for i in range (len(numbers)):\n",
    "    print(\"Item #\"+str(i+1)+\": \"+str(numbers[i]))"
   ]
  },
  {
   "cell_type": "code",
   "execution_count": 4,
   "id": "4079a57d",
   "metadata": {},
   "outputs": [
    {
     "name": "stdout",
     "output_type": "stream",
     "text": [
      "It isn't 1. That's too low!\n",
      "It isn't 2. That's too low!\n",
      "It isn't 3. That's too low!\n",
      "It isn't 4. That's too low!\n",
      "It isn't 5. That's too low!\n",
      "It isn't 6. That's too low!\n",
      "Found it! The number was 7!\n"
     ]
    }
   ],
   "source": [
    "\"\"\" 6.2 Assign the value 7 to the variable guess_me, and the value 1 to the variable number.\n",
    "      Write a while loop that compares number with guess_me. Print 'too low' if number is less than guess me.\n",
    "    If number equals guess_me, print 'found it!' and then exit the loop. If number is greater than guess_me,\n",
    "      print 'oops' and then exit the loop. Increment number at the end of the loop.\"\"\"\n",
    "guess_me = 7\n",
    "number = 1\n",
    "while number <= 10:\n",
    "    if number < guess_me:\n",
    "        print(\"It isn't \"+str(number)+\". That's too low!\")\n",
    "    if number == guess_me:\n",
    "        print(\"Found it! The number was \"+str(guess_me)+\"!\")\n",
    "        break\n",
    "    elif number > guess_me:\n",
    "        print(\"Oops, I must have skipped it somehow!\")\n",
    "        break\n",
    "    number += 1"
   ]
  },
  {
   "cell_type": "code",
   "execution_count": 7,
   "id": "d6b358c5",
   "metadata": {},
   "outputs": [
    {
     "name": "stdout",
     "output_type": "stream",
     "text": [
      "It isn't 0. That's too low!\n",
      "It isn't 1. That's too low!\n",
      "It isn't 2. That's too low!\n",
      "It isn't 3. That's too low!\n",
      "It isn't 4. That's too low!\n",
      "Found it! The number was 5!\n"
     ]
    }
   ],
   "source": [
    "\"\"\"6.3 Assign the value 5 to the variable guess_me. Use a for loop to iterate a variable called number over range(10).\n",
    "    If number is less than guess_me, print 'too low'. If it equals guess_me, print 'found it!' and then break out of the for loop.\n",
    "    If number is greater than guess_me, print 'oops' and then exit the loop.\"\"\"\n",
    "guess_me = 5\n",
    "for number in range (10):\n",
    "    if number < guess_me:\n",
    "        print(\"It isn't \"+str(number)+\". That's too low!\")\n",
    "    if number == guess_me:\n",
    "        print(\"Found it! The number was \"+str(guess_me)+\"!\")\n",
    "        break\n",
    "    elif number > guess_me:\n",
    "        print(\"Oops, I must have skipped it somehow!\")"
   ]
  },
  {
   "cell_type": "code",
   "execution_count": null,
   "id": "12c89d57",
   "metadata": {},
   "outputs": [],
   "source": [
    "for variable in range (0,10,2):\n",
    "    print(variable)"
   ]
  }
 ],
 "metadata": {
  "kernelspec": {
   "display_name": "Python 3 (ipykernel)",
   "language": "python",
   "name": "python3"
  },
  "language_info": {
   "codemirror_mode": {
    "name": "ipython",
    "version": 3
   },
   "file_extension": ".py",
   "mimetype": "text/x-python",
   "name": "python",
   "nbconvert_exporter": "python",
   "pygments_lexer": "ipython3",
   "version": "3.10.9"
  }
 },
 "nbformat": 4,
 "nbformat_minor": 5
}
