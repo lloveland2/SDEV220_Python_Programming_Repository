{
 "cells": [
  {
   "cell_type": "code",
   "execution_count": null,
   "id": "5016776f",
   "metadata": {},
   "outputs": [],
   "source": [
    "\"\"\" Write a Python app that has the following classes:\n",
    "        - A super class called Vehicle, which contains an attribute for vehicle type, \n",
    "         such as car, truck, plane, boat, or a broomstick.\n",
    "        \n",
    "        - A class called Automobile which will inherit the attributes from Vehicle \n",
    "         and also contain the following attributes:\n",
    "            - Year\n",
    "            - Make\n",
    "            - Model\n",
    "            - Doors (2 or 4)\n",
    "            - Roof (solid or sun roof).\n",
    "            \n",
    "        - Write an app that will accept user input for a car. The app will store\n",
    "         \"car\" into the vehicle type in your Vehicle super class. \n",
    "         \n",
    "        - The app will then ask the user for the year, make, model, doors,\n",
    "         and type of roof and store the data in the attributes above.\n",
    "         \n",
    "        - The app will then output the data in an easy-to-read and understandable\n",
    "        format, such as this:\n",
    "            - Vehicle type: car\n",
    "            - Year: 2022\n",
    "            - Make: Toyota\n",
    "            - Model: Corolla\n",
    "            - Number of doors: 4\n",
    "            - Type of roof: sun roof\"\"\""
   ]
  },
  {
   "cell_type": "code",
   "execution_count": 2,
   "id": "214ca6a3",
   "metadata": {},
   "outputs": [
    {
     "name": "stdout",
     "output_type": "stream",
     "text": [
      "Enter the vehicle type (Car, Truck, SUV, etc.): Car\n",
      "Enter the year: 2022\n",
      "Enter the make: Toyota\n",
      "Enter the model: Corolla\n",
      "How many side doors are on the vehcile (2 or 4): 4\n",
      "Enter the roof type (i.e. closed-roof, sun roof, convertable): Sun-Roof\n",
      "Type:  Car\n",
      "Year:  2022\n",
      "Make:  2022\n",
      "Enter the model:  Corolla\n",
      "How many side doors are on the vehcile (2 or 4):  4\n",
      "Enter the roof type (closed-roof or sun roof?):  Sun-Roof\n"
     ]
    }
   ],
   "source": [
    "class Vehicle():\n",
    "    def __init__(self, vehicle_type):\n",
    "        self.vehicle_type = vehicle_type\n",
    "        \n",
    "class Automobile(Vehicle):\n",
    "    def __init__(self, vehicle_type):\n",
    "        super().__init__(vehicle_type)\n",
    "        self.year = 1999\n",
    "        self.make = \"Toyota\"\n",
    "        self.model = \"Corolla\"\n",
    "        self.doors = 4\n",
    "        self.roof = \"Closed-roof\"\n",
    "# https://soundcloud.com/totalspiffagedubs/reading-1999-toyota-corolla-craigslist-ad\n",
    "# Very funny reading for a 1999 toyota corolla ad on craigslist.\n",
    "    def set_details(self):\n",
    "            self.year = input(\"Enter the year: \")\n",
    "            self.make = input(\"Enter the make: \")\n",
    "            self.model = input(\"Enter the model: \")\n",
    "            self.doors = input(\"How many side doors are on the vehcile (2 or 4): \")\n",
    "            self.roof = input(\"Enter the roof type (i.e. closed-roof, sun roof, convertable): \")\n",
    "        \n",
    "    def print_details(self):\n",
    "            print(\"Type: \",self.vehicle_type)\n",
    "            print(\"Year: \",self.year)\n",
    "            print(\"Make: \",self.year)\n",
    "            print(\"Enter the model: \",self.model)\n",
    "            print(\"How many side doors are on the vehcile (2 or 4): \",self.doors)\n",
    "            print(\"Enter the roof type (closed-roof or sun roof?): \",self.roof)\n",
    "        \n",
    "vehicle_type = input(\"Enter the vehicle type (Car, Truck, SUV, etc.): \")\n",
    "car = Automobile(vehicle_type)\n",
    "car.set_details()\n",
    "car.print_details()"
   ]
  }
 ],
 "metadata": {
  "kernelspec": {
   "display_name": "Python 3 (ipykernel)",
   "language": "python",
   "name": "python3"
  },
  "language_info": {
   "codemirror_mode": {
    "name": "ipython",
    "version": 3
   },
   "file_extension": ".py",
   "mimetype": "text/x-python",
   "name": "python",
   "nbconvert_exporter": "python",
   "pygments_lexer": "ipython3",
   "version": "3.10.9"
  }
 },
 "nbformat": 4,
 "nbformat_minor": 5
}
