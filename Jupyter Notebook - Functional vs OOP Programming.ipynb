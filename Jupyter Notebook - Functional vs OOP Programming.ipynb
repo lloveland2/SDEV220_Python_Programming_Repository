{
 "cells": [
  {
   "cell_type": "code",
   "execution_count": 15,
   "id": "e069e2f1",
   "metadata": {},
   "outputs": [
    {
     "name": "stdout",
     "output_type": "stream",
     "text": [
      "1\n",
      "10\n",
      "2 2 1 1 0 1 0 2 0 0\n",
      "0 0 0 0 1 1 1 2 2 2 \n"
     ]
    }
   ],
   "source": [
    "#User function Template for python3\n",
    "\n",
    "class Solution:\n",
    "    def sort012(self,arr,n):\n",
    "        # code here\n",
    "        arr.sort()\n",
    "        return arr\n",
    "\n",
    "\n",
    "#{ \n",
    " # Driver Code Starts\n",
    "#Initial Template for Python 3\n",
    "\n",
    "if __name__ == '__main__':\n",
    "    t=int(input())\n",
    "    for _ in range(t):\n",
    "        n=int(input())\n",
    "        arr=[int(x) for x in input().strip().split()]\n",
    "        ob=Solution()\n",
    "        ob.sort012(arr,n)\n",
    "        for i in arr:\n",
    "            print(i, end=' ')\n",
    "        print()\n",
    "\n",
    "# } Driver Code Ends"
   ]
  },
  {
   "cell_type": "code",
   "execution_count": 18,
   "id": "9c4772d3",
   "metadata": {},
   "outputs": [
    {
     "name": "stdout",
     "output_type": "stream",
     "text": [
      "1\n",
      "5\n",
      "4 3 7 44 27 639 2 0\n",
      "2\n",
      "6\n"
     ]
    }
   ],
   "source": [
    "#User function template for Python\n",
    "\n",
    "class Solution:\n",
    "    def binarysearch(self, arr, n, k):\n",
    "        # code here\n",
    "        index = arr.index(k)\n",
    "        return index\n",
    "\n",
    "#{ \n",
    " # Driver Code Starts\n",
    "#Initial template for Python\n",
    "\n",
    "if __name__ == '__main__':\n",
    "    t=int(input())\n",
    "    for i in range(t):\n",
    "        n=int(input())\n",
    "        arr=list(map(int, input().strip().split(' ')))\n",
    "        k=int(input())\n",
    "        ob = Solution()\n",
    "        print (ob.binarysearch(arr, n, k))\n",
    "\n",
    "\n",
    "# } Driver Code Ends"
   ]
  }
 ],
 "metadata": {
  "kernelspec": {
   "display_name": "Python 3 (ipykernel)",
   "language": "python",
   "name": "python3"
  },
  "language_info": {
   "codemirror_mode": {
    "name": "ipython",
    "version": 3
   },
   "file_extension": ".py",
   "mimetype": "text/x-python",
   "name": "python",
   "nbconvert_exporter": "python",
   "pygments_lexer": "ipython3",
   "version": "3.10.9"
  }
 },
 "nbformat": 4,
 "nbformat_minor": 5
}
