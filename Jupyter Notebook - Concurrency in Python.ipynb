{
 "cells": [
  {
   "cell_type": "code",
   "execution_count": 1,
   "metadata": {},
   "outputs": [],
   "source": [
    "'''13.1 Write the current date as a string to the text file today.txt.'''\n",
    "import time\n",
    "\n",
    "cur_date = time.localtime()\n",
    "today_txt = open(\"today.txt\",\"wt\")\n",
    "today_txt.write(f'{cur_date.tm_mon}-{cur_date.tm_mday}-{cur_date.tm_year}')\n",
    "today_txt.close()"
   ]
  },
  {
   "cell_type": "code",
   "execution_count": 2,
   "metadata": {},
   "outputs": [
    {
     "name": "stdout",
     "output_type": "stream",
     "text": [
      "7-20-2023\n"
     ]
    }
   ],
   "source": [
    "'''13.2 Read the text file today.txt into the string today_string.'''\n",
    "import time\n",
    "\n",
    "today_txt = open(\"today.txt\",\"rt\")\n",
    "today_string = today_txt.read()\n",
    "print(today_string)\n",
    "today_txt.close()"
   ]
  },
  {
   "cell_type": "code",
   "execution_count": 3,
   "metadata": {},
   "outputs": [
    {
     "name": "stdout",
     "output_type": "stream",
     "text": [
      "Date was retrieved from today.txt.\n",
      "Stored date: July 20, 2023.\n"
     ]
    }
   ],
   "source": [
    "'''13.3 Parse the date from today_string.'''\n",
    "import time\n",
    "\n",
    "today_txt = open(\"today.txt\",\"rt\")\n",
    "cur_date = time.strptime(today_txt.read(),\"%m-%d-%Y\")\n",
    "print(f\"Date was retrieved from today.txt.\\nStored date: {time.strftime('%B %d, %Y.',cur_date)}\")\n",
    "today_txt.close()"
   ]
  },
  {
   "cell_type": "code",
   "execution_count": 4,
   "metadata": {},
   "outputs": [],
   "source": [
    "'''15.1 Use multiprocessing to create three separate processes. Make each one wait a random number of seconds between zero and one, print the current time, and then exit.'''\n",
    "import multiprocessing as multi_proc\n",
    "import time\n",
    "import random\n",
    "\n",
    "\n",
    "# NOTICE: Jupyter Notebook (.ipynb) files won't natively run this code as intended.\n",
    "#         It is suggested that this exercise should first be pasted into a python (.py) file,\n",
    "#         after which it should be ran via the command prompt (or your terminal of choice).\n",
    "\n",
    "def take_your_time():\n",
    "    # Take your time, and then print it when you're ready!\n",
    "    time.sleep(random.randint(0,5))\n",
    "    print(time.ctime())\n",
    "\n",
    "\n",
    "if __name__ == \"__main__\":\n",
    "    for i in range(3):\n",
    "        proc = multi_proc.Process(target=take_your_time)\n",
    "        proc.start()\n"
   ]
  }
 ],
 "metadata": {
  "kernelspec": {
   "display_name": "Python 3",
   "language": "python",
   "name": "python3"
  },
  "language_info": {
   "codemirror_mode": {
    "name": "ipython",
    "version": 3
   },
   "file_extension": ".py",
   "mimetype": "text/x-python",
   "name": "python",
   "nbconvert_exporter": "python",
   "pygments_lexer": "ipython3",
   "version": "3.10.6"
  },
  "orig_nbformat": 4
 },
 "nbformat": 4,
 "nbformat_minor": 2
}
