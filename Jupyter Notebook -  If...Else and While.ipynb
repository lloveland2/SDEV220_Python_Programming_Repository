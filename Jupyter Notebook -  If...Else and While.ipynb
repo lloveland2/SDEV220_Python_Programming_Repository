{
 "cells": [
  {
   "cell_type": "code",
   "execution_count": null,
   "id": "2fe3ae3a",
   "metadata": {},
   "outputs": [],
   "source": [
    "\"\"\" Write a Python app that will accept student names and GPAs and test if the student qualifies for either \n",
    "        the Dean's List or the Honor Roll.\n",
    "Your app will:\n",
    "    - ask for and accept a student's last name.\n",
    "    - quit processing student records if the last name entered is 'ZZZ'.\n",
    "    - ask for and accept a student's first name.\n",
    "    - ask for and accept the student's GPA as a float.\n",
    "    - test if the student's GPA is 3.5 or greater and, if so, print a message saying that the student has made the Dean's List.\n",
    "    - test if the student's GPA is 3.25 or greater and, if so, print a message saying that the studnet has made the Honor Roll.\n",
    "    - Test your app using at least five students.\n",
    "    - Your header comments need to contain:\n",
    "        - Your name\n",
    "        - The file name for your app\n",
    "        - A brief description of what your app will do\"\"\""
   ]
  },
  {
   "cell_type": "code",
   "execution_count": 4,
   "id": "d71e58ac",
   "metadata": {},
   "outputs": [
    {
     "name": "stdout",
     "output_type": "stream",
     "text": [
      "Beginning entry session.\n",
      "Enter a student name. (Type \"ZZZ\" to exit.): Student A\n",
      "Enter the student's Grade Point Average (GPA): 3.5\n",
      "Student A has made the Dean's List.\n",
      "Enter a student name. (Type \"ZZZ\" to exit.): Student B\n",
      "Enter the student's Grade Point Average (GPA): 3.25\n",
      "Student B has made the Honor Roll\n",
      "Enter a student name. (Type \"ZZZ\" to exit.): Student C\n",
      "Enter the student's Grade Point Average (GPA): 3.0\n",
      "Enter a student name. (Type \"ZZZ\" to exit.): Student D\n",
      "Enter the student's Grade Point Average (GPA): 5.0\n",
      "GPA is out of range. Skipping entry.\n",
      "Enter a student name. (Type \"ZZZ\" to exit.): Student #\n",
      "Enter the student's Grade Point Average (GPA): -0.1\n",
      "GPA is out of range. Skipping entry.\n",
      "Enter a student name. (Type \"ZZZ\" to exit.): ZZZ\n",
      "Ending entry session.\n"
     ]
    }
   ],
   "source": [
    "# Author: Lucas C. Loveland\n",
    "# Filename: Jupyter Notebook -  If...Else and While\n",
    "\"\"\" Description: A mock program that processes a string and float value as a student name and gpa,\n",
    "        and then prints a message based on the range of the float value.\"\"\"\n",
    "print(\"Beginning entry session...\")\n",
    "while True:\n",
    "    stu_name = input(\"Enter a student name. (Type \\\"ZZZ\\\" to exit.): \")\n",
    "    if (stu_name == \"ZZZ\"):\n",
    "        print(\"Ending entry session...\")\n",
    "        break\n",
    "    stu_gpa = float(input(\"Enter the student's Grade Point Average (GPA): \"))\n",
    "    if (stu_gpa > 4.0) or (stu_gpa < 0.0):\n",
    "        print(\"GPA is out of range. Skipping entry.\")\n",
    "        continue\n",
    "    elif (stu_gpa >= 3.5):\n",
    "        print(stu_name+\" has made the Dean's List.\")\n",
    "        continue\n",
    "    elif (stu_gpa >= 3.25):\n",
    "        print(stu_name+\" has made the Honor Roll\")\n",
    "        "
   ]
  }
 ],
 "metadata": {
  "kernelspec": {
   "display_name": "Python 3 (ipykernel)",
   "language": "python",
   "name": "python3"
  },
  "language_info": {
   "codemirror_mode": {
    "name": "ipython",
    "version": 3
   },
   "file_extension": ".py",
   "mimetype": "text/x-python",
   "name": "python",
   "nbconvert_exporter": "python",
   "pygments_lexer": "ipython3",
   "version": "3.10.9"
  }
 },
 "nbformat": 4,
 "nbformat_minor": 5
}
