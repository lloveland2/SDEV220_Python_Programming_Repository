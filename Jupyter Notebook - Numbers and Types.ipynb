{
 "cells": [
  {
   "cell_type": "code",
   "execution_count": 1,
   "id": "d50fe617",
   "metadata": {
    "scrolled": false
   },
   "outputs": [
    {
     "name": "stdout",
     "output_type": "stream",
     "text": [
      "3600\n"
     ]
    }
   ],
   "source": [
    "\"\"\"3.1 How many seconds are in an hour? Use the interactive interpreter as a calculator\n",
    "    and multiply the number of seconds in a minute (60) by the number of minutes in an hour (also 60).\"\"\"\n",
    "print(60*60)"
   ]
  },
  {
   "cell_type": "code",
   "execution_count": 2,
   "id": "a0b98478",
   "metadata": {
    "scrolled": true
   },
   "outputs": [],
   "source": [
    "#3.2 Assign the result from the previous task (seconds in an hour) to a variable called seconds_per_hour.\n",
    "seconds_per_minute = 60\n",
    "seconds_per_hour = (seconds_per_minute * 60)"
   ]
  },
  {
   "cell_type": "code",
   "execution_count": 3,
   "id": "ca03bfcf",
   "metadata": {
    "scrolled": true
   },
   "outputs": [
    {
     "name": "stdout",
     "output_type": "stream",
     "text": [
      "There are 86400 seconds in a day.\n"
     ]
    }
   ],
   "source": [
    "#3.3 How many seconds are in a day? Use your seconds_per_hour variable.\n",
    "seconds_per_minute = 60\n",
    "seconds_per_hour = (seconds_per_minute * 60)\n",
    "\n",
    "print(\"There are \" + str(seconds_per_hour * 24) + \" seconds in a day.\")"
   ]
  },
  {
   "cell_type": "code",
   "execution_count": 4,
   "id": "41b68fef",
   "metadata": {
    "scrolled": true
   },
   "outputs": [
    {
     "name": "stdout",
     "output_type": "stream",
     "text": [
      "There are 86400 seconds in a day.\n"
     ]
    }
   ],
   "source": [
    "#3.4 Calculate seconds per day again, but this time save the result in a variable called seconds_per_day.\n",
    "seconds_per_minute = 60\n",
    "seconds_per_hour = (seconds_per_minute * 60)\n",
    "seconds_per_day = (seconds_per_hour * 24)\n",
    "\n",
    "print(\"There are \" + str(seconds_per_day) + \" seconds in a day.\")"
   ]
  },
  {
   "cell_type": "code",
   "execution_count": 5,
   "id": "d4ab44d9",
   "metadata": {
    "scrolled": true
   },
   "outputs": [
    {
     "name": "stdout",
     "output_type": "stream",
     "text": [
      "24.0\n"
     ]
    }
   ],
   "source": [
    "#3.5 Divide seconds_per_day by seconds_per_hour. Use floating-point (/) division.\n",
    "seconds_per_minute = 60\n",
    "seconds_per_hour = (seconds_per_minute * 60)\n",
    "seconds_per_day = (seconds_per_hour * 24)\n",
    "\n",
    "print(seconds_per_day/seconds_per_hour)"
   ]
  },
  {
   "cell_type": "code",
   "execution_count": 6,
   "id": "4b24a6ec",
   "metadata": {
    "scrolled": true
   },
   "outputs": [
    {
     "name": "stdout",
     "output_type": "stream",
     "text": [
      "The value \"24\" was consistent with the previous value of \"24.0\".\n"
     ]
    }
   ],
   "source": [
    "\"\"\"3.6 Divide seconds_per_day by seconds_per_hour, using integer (//) division.\n",
    "     Did this number agree with the floating-point value from the previous question, aside from the final .0?\"\"\"\n",
    "seconds_per_minute = 60\n",
    "seconds_per_hour = (seconds_per_minute * 60)\n",
    "seconds_per_day = (seconds_per_hour * 24)\n",
    "\n",
    "print(\"The value \\\"\"+str(seconds_per_day//seconds_per_hour)+\"\\\" was consistent with the previous value of \\\"\"\\\n",
    "      +str(seconds_per_day/seconds_per_hour)+\"\\\".\")\n"
   ]
  }
 ],
 "metadata": {
  "kernelspec": {
   "display_name": "Python 3 (ipykernel)",
   "language": "python",
   "name": "python3"
  },
  "language_info": {
   "codemirror_mode": {
    "name": "ipython",
    "version": 3
   },
   "file_extension": ".py",
   "mimetype": "text/x-python",
   "name": "python",
   "nbconvert_exporter": "python",
   "pygments_lexer": "ipython3",
   "version": "3.10.9"
  }
 },
 "nbformat": 4,
 "nbformat_minor": 5
}
