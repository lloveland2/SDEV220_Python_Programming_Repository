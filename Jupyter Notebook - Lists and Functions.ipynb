{
 "cells": [
  {
   "cell_type": "code",
   "execution_count": 1,
   "id": "44075b51",
   "metadata": {},
   "outputs": [
    {
     "name": "stdout",
     "output_type": "stream",
     "text": [
      "mozzarella\n",
      "cinderella\n",
      "salmonella\n"
     ]
    }
   ],
   "source": [
    "\"\"\" 7.4 Make a list called things with these three strings as elements: \n",
    "    \"mozzarella\", \"cinderella\", \"salmonella\".\"\"\"\n",
    "things = [\"mozzarella\", \"cinderella\", \"salmonella\"]\n",
    "for thing in things:\n",
    "    print(thing)"
   ]
  },
  {
   "cell_type": "code",
   "execution_count": 2,
   "id": "fe2a17d6",
   "metadata": {},
   "outputs": [
    {
     "name": "stdout",
     "output_type": "stream",
     "text": [
      "['mozzarella', 'cinderella', 'salmonella']\n",
      "The 'capitalize()' function does not change the element. It only returns a value.\n"
     ]
    }
   ],
   "source": [
    "\"\"\" 7.5 Capitalize the element in things that refers to a person and then print the list.\n",
    "    Did it change the element in the list?\"\"\"\n",
    "things = [\"mozzarella\", \"cinderella\", \"salmonella\"]\n",
    "things[1].capitalize()\n",
    "print(things)\n",
    "print(\"The 'capitalize()' function does not change the element. It only returns a value.\")"
   ]
  },
  {
   "cell_type": "code",
   "execution_count": 3,
   "id": "fa2208c2",
   "metadata": {},
   "outputs": [
    {
     "name": "stdout",
     "output_type": "stream",
     "text": [
      "['Mozzarella', 'cinderella', 'salmonella']\n"
     ]
    }
   ],
   "source": [
    "# 7.6 Make the cheesy element of things all uppercase and then print the list.\n",
    "things = [\"mozzarella\", \"cinderella\", \"salmonella\"]\n",
    "things[0] = things[0].capitalize() # Is this the best way to do this? Let me know on Canvas!\n",
    "print(things)"
   ]
  },
  {
   "cell_type": "code",
   "execution_count": 4,
   "id": "805db5a2",
   "metadata": {},
   "outputs": [
    {
     "name": "stdout",
     "output_type": "stream",
     "text": [
      "['mozzarella', 'cinderella']\n"
     ]
    }
   ],
   "source": [
    "# 7.7 Delete the disease element from things, collect your Nobel Prize, and print the list.\n",
    "things = [\"mozzarella\", \"cinderella\", \"salmonella\"]\n",
    "del(things[2])\n",
    "print(things)"
   ]
  },
  {
   "cell_type": "code",
   "execution_count": 5,
   "id": "c4ef24fb",
   "metadata": {},
   "outputs": [
    {
     "name": "stdout",
     "output_type": "stream",
     "text": [
      "Harry\n",
      "Ron\n",
      "Hermione\n"
     ]
    }
   ],
   "source": [
    "# 9.1 Define a function called good() that returns the following list: ['Harry', 'Ron', 'Hermione'].\n",
    "def good():\n",
    "    \"good returns a list of the good ones\"\n",
    "    return(['Harry', 'Ron', 'Hermione'])\n",
    "good_ones = good()\n",
    "for names in good_ones:\n",
    "    print(names)"
   ]
  },
  {
   "cell_type": "code",
   "execution_count": 6,
   "id": "489bfb51",
   "metadata": {},
   "outputs": [
    {
     "name": "stdout",
     "output_type": "stream",
     "text": [
      "5\n"
     ]
    }
   ],
   "source": [
    "\"\"\" 9.2 Define a generator function called get_odds() that returns the odd numbers from range(10).\n",
    "    Use a for loop to find and print the third value returned.\"\"\"\n",
    "\n",
    "def get_odds():\n",
    "    \"get_odds is a generator that yields odd numbers in a range of 10.\"\n",
    "    numbers = range(10)\n",
    "    for num in numbers:\n",
    "        if (num % 2 != 0):\n",
    "            yield num\n",
    "\n",
    "sequence = 0\n",
    "odds = get_odds()\n",
    "\n",
    "for value in odds:\n",
    "    sequence += 1\n",
    "    if (sequence == 3):\n",
    "        print(value)\n",
    "        break"
   ]
  }
 ],
 "metadata": {
  "kernelspec": {
   "display_name": "Python 3 (ipykernel)",
   "language": "python",
   "name": "python3"
  },
  "language_info": {
   "codemirror_mode": {
    "name": "ipython",
    "version": 3
   },
   "file_extension": ".py",
   "mimetype": "text/x-python",
   "name": "python",
   "nbconvert_exporter": "python",
   "pygments_lexer": "ipython3",
   "version": "3.10.9"
  }
 },
 "nbformat": 4,
 "nbformat_minor": 5
}
