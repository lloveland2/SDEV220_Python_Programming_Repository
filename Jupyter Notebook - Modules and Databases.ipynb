{
 "cells": [
  {
   "cell_type": "code",
   "execution_count": null,
   "id": "1e2d8ff5",
   "metadata": {},
   "outputs": [],
   "source": [
    "''' 11.1 Create a file called zoo.py. In it, define a function called hours()\n",
    "        that prints the string 'Open 9-5 daily'. Then, use the interactive interpreter \n",
    "        to import the zoo module and call its hours() function.'''\n",
    "from generic_package import zoo\n",
    "zoo.hours()"
   ]
  },
  {
   "cell_type": "code",
   "execution_count": null,
   "id": "52270a99",
   "metadata": {},
   "outputs": [],
   "source": [
    "''' 11.2 In the interactive interpreter, import the zoo module\n",
    "        as menagerie and call its hours() function.'''\n",
    "from generic_package import zoo as menagire\n",
    "menagire.hours()"
   ]
  },
  {
   "cell_type": "code",
   "execution_count": 2,
   "id": "c9d8a565",
   "metadata": {},
   "outputs": [
    {
     "data": {
      "text/plain": [
       "<sqlite3.Cursor at 0x1a1896453c0>"
      ]
     },
     "execution_count": 2,
     "metadata": {},
     "output_type": "execute_result"
    }
   ],
   "source": [
    "''' 16.4 Use the sqlite3 module to create a SQLite database called books.db and a table called books\n",
    "        with these fields: title (text), author (text), and year (integer).'''\n",
    "import sqlite3\n",
    "connection = sqlite3.connect('books.db')\n",
    "cursor = connection.cursor()\n",
    "cursor.execute(\"\"\"CREATE TABLE books\n",
    "               (title VARCHAR(36),\n",
    "               author VARCHAR(36),\n",
    "               year INT)\"\"\")\n"
   ]
  },
  {
   "cell_type": "code",
   "execution_count": 3,
   "id": "c45698f8",
   "metadata": {},
   "outputs": [],
   "source": [
    "''' 16.8 Use the sqlalchemy module to connect to the sqlite3 database books.db that you just made\n",
    "        in exercise 16.4. As in 16.6, select and print the title column from the book table in\n",
    "        alphabetical order'''\n",
    "        \n",
    "# Note: This exercise works under the assumption you have a pre-existing database.\n",
    "# Thus, it will not run without an existing \"books.db\" file in the root directory.\n",
    "# If you don't have your own, run exercise 16.4 provided in the cell above.\n",
    "# It will create an empty database with the necessary tables to run the below without errors.\n",
    "import sqlalchemy\n",
    "connection = sqlalchemy.create_engine(\"sqlite:///books.db\")\n",
    "\n",
    "titles = connection.execute(\"\"\"SELECT title from books ORDER BY title\"\"\")\n",
    "for title in titles:\n",
    "        print(title)\n",
    "\n"
   ]
  }
 ],
 "metadata": {
  "kernelspec": {
   "display_name": "Python 3 (ipykernel)",
   "language": "python",
   "name": "python3"
  },
  "language_info": {
   "codemirror_mode": {
    "name": "ipython",
    "version": 3
   },
   "file_extension": ".py",
   "mimetype": "text/x-python",
   "name": "python",
   "nbconvert_exporter": "python",
   "pygments_lexer": "ipython3",
   "version": "3.10.9"
  }
 },
 "nbformat": 4,
 "nbformat_minor": 5
}
